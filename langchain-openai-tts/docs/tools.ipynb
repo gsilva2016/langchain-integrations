{
 "cells": [
  {
   "cell_type": "raw",
   "id": "10238e62-3465-4973-9279-606cbb7ccf16",
   "metadata": {},
   "source": [
    "---\n",
    "sidebar_label: OpenAIText2SpeechTool\n",
    "---"
   ]
  },
  {
   "cell_type": "markdown",
   "id": "a6f91f20",
   "metadata": {},
   "source": [
    "# OpenAIText2SpeechTool\n",
    "\n",
    "This notebook provides a quick overview for getting started with OpenAIText2SpeechTool [tool](/docs/integrations/tools/). For detailed documentation of all OpenAIText2SpeechTool features and configurations head to the [API reference](https://python.langchain.com/v0.2/api_reference/community/tools/langchain_community.tools.langchain_openai_tts.tool.OpenAIText2SpeechTool.html).\n",
    "\n",
    "## Overview\n",
    "\n",
    "### Integration details\n",
    "\n",
    "This notebook shows how to interact with the `OpenAI Speech API` to achieve text-to-speech capabilities.\n",
    "\n",
    "| Class | Package | Serializable | [JS support](https://js.langchain.com/docs/integrations/tools/langchain_openai_tts) |  Package latest |\n",
    "| :--- | :--- | :---: | :---: | :---: |\n",
    "| [OpenAIText2SpeechTool](https://python.langchain.com/v0.2/api_reference/community/tools/langchain_community.tools.langchain_openai_tts.tool.OpenAIText2SpeechTool.html) | [langchain-community](https://api.python.langchain.com/en/latest/community_api_reference.html) | beta/❌ | ✅/❌ |  ![PyPI - Version](https://img.shields.io/pypi/v/langchain-community?style=flat-square&label=%20) |\n",
    "\n",
    "### Tool features\n",
    "\n",
    "## Setup\n",
    "\n",
    "In order to make requests to an OpenAI Speech API compatible server one option is to follow the instructions at [Kokoro-FastAPI](https://github.com/remsky/Kokoro-FastAPI) under Quickest Start (docker run) section. This will ensure 'http://localhost:8880/v1' is available for accepting the Text2Speech requests from this example.\n",
    "\n",
    "Also, be sure to `apt update && apt install -y portaudio19-dev build-essential ffmpeg`\n",
    "The integration lives in the `langchain-community` package."
   ]
  },
  {
   "cell_type": "code",
   "execution_count": null,
   "id": "f85b4089",
   "metadata": {},
   "outputs": [],
   "source": [
    "%%pip install --upgrade --quiet openai pyaudio ipython langchain_community langchain-openai torchaudio transformers sounddevice soundfile"
   ]
  },
  {
   "cell_type": "markdown",
   "id": "1c97218f-f366-479d-8bf7-fe9f2f6df73f",
   "metadata": {},
   "source": [
    "## Instantiation\n",
    "\n",
    "Here we show how to instantiate an instance of the OpenAIText2SpeechTool tool, with "
   ]
  },
  {
   "cell_type": "code",
   "execution_count": 4,
   "id": "8b3ddfe9-ca79-494c-a7ab-1f56d9407a64",
   "metadata": {},
   "outputs": [],
   "source": [
    "from langchain_community.tools import OpenAIText2SpeechTool\n",
    "\n",
    "tool = OpenAIText2SpeechTool(\n",
    "    model_id=\"kokoro\",\n",
    "	 voice=\"af_sky+af_bella\",\n",
    "	 base_url=\"http://localhost:8880/v1\", \n",
    "	 api_key=\"not-needed\" \n",
    ")"
   ]
  },
  {
   "cell_type": "markdown",
   "id": "74147a1a",
   "metadata": {},
   "source": [
    "## Invocation\n",
    "\n"
   ]
  },
  {
   "cell_type": "code",
   "execution_count": null,
   "id": "65310a8b-eb0c-4d9e-a618-4f4abe2414fc",
   "metadata": {},
   "outputs": [],
   "source": [
    "text_to_speak = \"Hello world!\" \n",
    "speech_file = tts.run(text_to_speak) \n",
    "tts.play(speech_file)"
   ]
  },
  {
   "cell_type": "markdown",
   "id": "42d89cd4-ac2a-4857-9787-c9018b4a8782",
   "metadata": {},
   "source": [
    "Or stream audio directly."
   ]
  },
  {
   "cell_type": "code",
   "execution_count": null,
   "id": "d72822f8-3223-47e2-8d2e-6ff46b8c8645",
   "metadata": {},
   "outputs": [],
   "source": [
    "tts.stream_speech(text_to_speak)"
   ]
  },
  {
   "cell_type": "markdown",
   "id": "a152766d-5f06-48b1-ac89-b4e8d88d3c9f",
   "metadata": {},
   "source": [
    "## Use within an Agent"
   ]
  },
  {
   "cell_type": "code",
   "execution_count": null,
   "id": "37626aea-0cf0-4849-9c00-c0f40515ffe0",
   "metadata": {},
   "outputs": [],
   "source": [
    "from langchain.agents import AgentType, initialize_agent, load_tools\n",
    "from langchain_openai import OpenAI"
   ]
  },
  {
   "cell_type": "code",
   "execution_count": null,
   "id": "c168f28e-d5b7-4c93-bed8-0ab317b4a44b",
   "metadata": {},
   "outputs": [],
   "source": [
    "llm = OpenAI(temperature=0)\n",
    "tools = load_tools([\"openai_text2speech\"])\n",
    "agent = initialize_agent(\n",
    "    tools=tools,\n",
    "    llm=llm,\n",
    "    agent=AgentType.STRUCTURED_CHAT_ZERO_SHOT_REACT_DESCRIPTION,\n",
    "    verbose=True,\n",
    ")"
   ]
  },
  {
   "cell_type": "code",
   "execution_count": null,
   "id": "336bf95a-3ccb-4963-aac3-638a4df2ed78",
   "metadata": {},
   "outputs": [],
   "source": [
    "audio_file = agent.run(\"Tell me a joke and read it out for me.\")"
   ]
  },
  {
   "cell_type": "code",
   "execution_count": null,
   "id": "f0aa7aa9-4682-4599-8cae-59347d9e5210",
   "metadata": {},
   "outputs": [],
   "source": [
    "tts.play(audio_file)"
   ]
  },
  {
   "cell_type": "markdown",
   "id": "4ac8146c",
   "metadata": {},
   "source": [
    "## API reference\n",
    "\n",
    "For detailed documentation of all OpenAIText2SpeechTool features and configurations head to the API reference: https://python.langchain.com/v0.2/api_reference/community/tools/langchain_community.tools.langchain_openai_tts.tool.OpenAIText2SpeechTool.html"
   ]
  }
 ],
 "metadata": {
  "kernelspec": {
   "display_name": "poetry-venv-311",
   "language": "python",
   "name": "poetry-venv-311"
  },
  "language_info": {
   "codemirror_mode": {
    "name": "ipython",
    "version": 3
   },
   "file_extension": ".py",
   "mimetype": "text/x-python",
   "name": "python",
   "nbconvert_exporter": "python",
   "pygments_lexer": "ipython3",
   "version": "3.11.9"
  }
 },
 "nbformat": 4,
 "nbformat_minor": 5
}

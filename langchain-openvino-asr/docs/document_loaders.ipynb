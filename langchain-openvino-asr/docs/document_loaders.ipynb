{
 "cells": [
  {
   "cell_type": "raw",
   "metadata": {},
   "source": [
    "---\n",
    "sidebar_label: OpenVINOSpeechToTextLoader\n",
    "---"
   ]
  },
  {
   "cell_type": "markdown",
   "metadata": {},
   "source": [
    "# OpenVINOSpeechToTextLoader\n",
    "\n",
    "- https://github.com/huggingface/optimum-intel/blob/main/docs/source/openvino/inference.mdx\n",
    "\n",
    "This notebook provides a quick overview for getting started with OpenVINOSpeechToTextLoader [document loader](https://python.langchain.com/docs/concepts/#document-loaders). For detailed documentation of all OpenVINOSpeechToTextLoader features and configurations head to the [API reference](https://python.langchain.com/v0.2/api_reference/community/document_loaders/langchain_community.document_loaders.langchain_openvino_asr_loader.OpenVINOSpeechToTextLoader.html).\n",
    "\n",
    "## Overview\n",
    "### Integration details\n",
    "\n",
    "- TODO: Fill in table features.\n",
    "- TODO: Remove JS support link if not relevant, otherwise ensure link is correct.\n",
    "- TODO: Make sure API reference links are correct.\n",
    "\n",
    "| OpenVINOSpeechToTextLoader | langchain-openvino-asr | Local | Serializable |\n",
    "| :--- | :--- | :---: | :---: | \n",
    "| [OpenVINOSpeechToTextLoader](https://python.langchain.com/v0.2/api_reference/community/document_loaders/langchain_community.document_loaders.langchain_openvino_asrloader.OpenVINOSpeechToTextLoader.html) | [langchain_community](https://api.python.langchain.com/en/latest/community_api_reference.html) | ✅/❌ | beta/❌ | ✅/❌ | \n",
    "### Loader features\n",
    "| Source | Document Lazy Loading | Native Async Support\n",
    "| :---: | :---: | :---: | \n",
    "| OpenVINOSpeechToTextLoader | ✅ ❌ | \n",
    "\n",
    "## Setup\n",
    "\n",
    "To access OpenVINOSpeechToTextLoader document loader you'll need to install the `langchain-openvino-asr` integration package..\n",
    "FFMpeg must also be installed.\n",
    "\n",
    "### Credentials\n",
    "\n",
    "- If a HuggingFace model requires credintials please follow the HuggingFace documentation.\n",
    "\n"
   ]
  },
  {
   "cell_type": "markdown",
   "metadata": {},
   "source": [
    "### Installation\n",
    "\n",
    "Install **langchain_community**.\n",
    "\n",
    "- FFMpeg\n",
    "- Download sample video via wget"
   ]
  },
  {
   "cell_type": "code",
   "execution_count": null,
   "metadata": {},
   "outputs": [],
   "source": [
    "%pip install -qU langchain_community langchain-huggingface"
   ]
  },
  {
   "cell_type": "code",
   "execution_count": null,
   "metadata": {},
   "outputs": [],
   "source": [
    "!apt-get update && apt-get install wget ffmpeg -y\n",
    "!wget -O audio.wav \"https://github.com/intel/intel-extension-for-transformers/raw/refs/heads/main/intel_extension_for_transformers/neural_chat/assets/audio/welcome.wav\""
   ]
  },
  {
   "cell_type": "markdown",
   "metadata": {},
   "source": [
    "## Initialization\n",
    "\n",
    "Now we can instantiate our model object and load documents:\n",
    "\n",
    "- TODO: Update model instantiation with relevant params."
   ]
  },
  {
   "cell_type": "code",
   "execution_count": null,
   "metadata": {},
   "outputs": [],
   "source": [
       "from langchain_community.document_loaders import OpenVINOSpeechToTextLoader\n",
       "\n",
       "loader = OpenVINOSpeechToTextLoader(\n",
       "    file_path = \"./audio.wav\", \n",
       "    model_id = \"distil-whisper/distil-small.en\", \n",
       "    # optional params \n",
       "    # device = \"CPU\", # GPU \n",
       "    # return_timestamps = True, \n",
       "    # return_language = \"en\", \n",
       "    # chunk_length_s = 30, \n",
       "    # load_in_8bit = True, \n",
       "    # batch_size = 2, \n",
       ")"
   ]
  },
  {
   "cell_type": "markdown",
   "metadata": {},
   "source": [
    "## Load\n",
    "\n"
   ]
  },
  {
   "cell_type": "code",
   "execution_count": null,
   "metadata": {},
   "outputs": [],
   "source": [
    "docs = loader.load()\n",
    "docs[0]"
   ]
  },
  {
   "cell_type": "code",
   "execution_count": null,
   "metadata": {},
   "outputs": [],
   "source": [
    "print(docs[0].metadata)"
   ]
  },
  {
   "cell_type": "markdown",
   "metadata": {},
   "source": [
    "## Lazy Load\n",
    "\n",
    "- TODO: Run cells to show lazy loading capabilities. Delete if lazy loading is not implemented."
   ]
  },
  {
   "cell_type": "code",
   "execution_count": null,
   "metadata": {},
   "outputs": [],
   "source": [
    "page = []\n",
    "for doc in loader.lazy_load():\n",
    "    page.append(doc)\n",
    "    if len(page) >= 10:\n",
    "        # do some paged operation, e.g.\n",
    "        # index.upsert(page)\n",
    "\n",
    "        page = []"
   ]
  },
  {
   "cell_type": "markdown",
   "metadata": {},
   "source": [
    "## API reference\n",
    "\n",
    "For detailed documentation of all OpenVINOSpeechToTextLoader features and configurations head to the API reference: https://python.langchain.com/v0.2/api_reference/community/document_loaders/langchain_community.document_loaders.langchain_openvino_asr_loader.OpenVINOSpeechToTextLoader.html"
   ]
  }
 ],
 "metadata": {
  "kernelspec": {
   "display_name": "Python 3 (ipykernel)",
   "language": "python",
   "name": "python3"
  },
  "language_info": {
   "codemirror_mode": {
    "name": "ipython",
    "version": 3
   },
   "file_extension": ".py",
   "mimetype": "text/x-python",
   "name": "python",
   "nbconvert_exporter": "python",
   "pygments_lexer": "ipython3",
   "version": "3.11.9"
  }
 },
 "nbformat": 4,
 "nbformat_minor": 4
}
